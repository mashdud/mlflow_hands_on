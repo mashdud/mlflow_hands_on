{
 "cells": [
  {
   "cell_type": "markdown",
   "id": "5e5af194",
   "metadata": {},
   "source": [
    "For this hands-on, we will be using the [Power Plant dataset](https://archive.ics.uci.edu/ml/datasets/Combined+Cycle+Power+Plant) dataset where the goal is to predict the net hourly electrical energy output (EP) of a plant."
   ]
  },
  {
   "cell_type": "code",
   "execution_count": 7,
   "id": "edb0ca7b",
   "metadata": {},
   "outputs": [],
   "source": [
    "from datetime import datetime\n",
    "\n",
    "import mlflow\n",
    "import pandas as pd\n",
    "from sklearn.model_selection import train_test_split\n",
    "from sklearn.ensemble import RandomForestRegressor\n",
    "from sklearn.metrics import mean_squared_error\n",
    "\n",
    "pd.set_option(\"display.max_columns\", None)"
   ]
  },
  {
   "cell_type": "code",
   "execution_count": 8,
   "id": "c1e09f3c",
   "metadata": {},
   "outputs": [
    {
     "name": "stdout",
     "output_type": "stream",
     "text": [
      "alembic==1.4.1\n",
      "argon2-cffi==21.3.0\n",
      "argon2-cffi-bindings==21.2.0\n",
      "asttokens==2.0.5\n",
      "attrs==21.4.0\n",
      "backcall==0.2.0\n",
      "beautifulsoup4==4.11.1\n",
      "bleach==5.0.0\n",
      "certifi==2021.10.8\n",
      "cffi==1.15.0\n",
      "charset-normalizer==2.0.12\n",
      "click==8.1.3\n",
      "cloudpickle==2.0.0\n",
      "colorama==0.4.4\n",
      "databricks-cli==0.16.6\n",
      "debugpy==1.6.0\n",
      "decorator==5.1.1\n",
      "defusedxml==0.7.1\n",
      "docker==5.0.3\n",
      "entrypoints==0.4\n",
      "executing==0.8.3\n",
      "fastjsonschema==2.15.3\n",
      "Flask==2.1.2\n",
      "gitdb==4.0.9\n",
      "GitPython==3.1.27\n",
      "greenlet==1.1.2\n",
      "idna==3.3\n",
      "importlib-metadata==4.11.3\n",
      "ipykernel==6.13.0\n",
      "ipython==8.3.0\n",
      "ipython-genutils==0.2.0\n",
      "ipywidgets==7.7.0\n",
      "itsdangerous==2.1.2\n",
      "jedi==0.18.1\n",
      "Jinja2==3.1.2\n",
      "joblib==1.1.0\n",
      "jsonschema==4.5.1\n",
      "jupyter==1.0.0\n",
      "jupyter-client==7.3.1\n",
      "jupyter-console==6.4.3\n",
      "jupyter-core==4.10.0\n",
      "jupyterlab-pygments==0.2.2\n",
      "jupyterlab-widgets==1.1.0\n",
      "Mako==1.2.0\n",
      "MarkupSafe==2.1.1\n",
      "matplotlib-inline==0.1.3\n",
      "mistune==0.8.4\n",
      "mlflow==1.20.2\n",
      "nbclient==0.6.3\n",
      "nbconvert==6.5.0\n",
      "nbformat==5.4.0\n",
      "nest-asyncio==1.5.5\n",
      "notebook==6.4.11\n",
      "numpy==1.22.3\n",
      "oauthlib==3.2.0\n",
      "packaging==21.3\n",
      "pandas==1.4.2\n",
      "pandocfilters==1.5.0\n",
      "parso==0.8.3\n",
      "pickleshare==0.7.5\n",
      "prometheus-client==0.14.1\n",
      "prometheus-flask-exporter==0.20.1\n",
      "prompt-toolkit==3.0.29\n",
      "protobuf==3.20.1\n",
      "psutil==5.9.0\n",
      "pure-eval==0.2.2\n",
      "pycparser==2.21\n",
      "Pygments==2.12.0\n",
      "PyJWT==2.3.0\n",
      "pyparsing==3.0.9\n",
      "pyrsistent==0.18.1\n",
      "python-dateutil==2.8.2\n",
      "python-editor==1.0.4\n",
      "pytz==2022.1\n",
      "pywin32==227\n",
      "pywinpty==2.0.5\n",
      "PyYAML==6.0\n",
      "pyzmq==22.3.0\n",
      "qtconsole==5.3.0\n",
      "QtPy==2.1.0\n",
      "querystring-parser==1.2.4\n",
      "requests==2.27.1\n",
      "scikit-learn==1.0\n",
      "scipy==1.8.0\n",
      "Send2Trash==1.8.0\n",
      "six==1.16.0\n",
      "smmap==5.0.0\n",
      "soupsieve==2.3.2.post1\n",
      "SQLAlchemy==1.4.36\n",
      "sqlparse==0.4.2\n",
      "stack-data==0.2.0\n",
      "tabulate==0.8.9\n",
      "terminado==0.13.3\n",
      "threadpoolctl==3.1.0\n",
      "tinycss2==1.1.1\n",
      "tornado==6.1\n",
      "traitlets==5.2.0\n",
      "urllib3==1.26.9\n",
      "waitress==2.1.1\n",
      "wcwidth==0.2.5\n",
      "webencodings==0.5.1\n",
      "websocket-client==1.3.2\n",
      "Werkzeug==2.1.2\n",
      "widgetsnbextension==3.6.0\n",
      "wincertstore==0.2\n",
      "zipp==3.8.0\n"
     ]
    }
   ],
   "source": [
    "!pip freeze"
   ]
  },
  {
   "cell_type": "code",
   "execution_count": 2,
   "id": "6dc17a41",
   "metadata": {
    "scrolled": true
   },
   "outputs": [
    {
     "data": {
      "text/html": [
       "<div>\n",
       "<style scoped>\n",
       "    .dataframe tbody tr th:only-of-type {\n",
       "        vertical-align: middle;\n",
       "    }\n",
       "\n",
       "    .dataframe tbody tr th {\n",
       "        vertical-align: top;\n",
       "    }\n",
       "\n",
       "    .dataframe thead th {\n",
       "        text-align: right;\n",
       "    }\n",
       "</style>\n",
       "<table border=\"1\" class=\"dataframe\">\n",
       "  <thead>\n",
       "    <tr style=\"text-align: right;\">\n",
       "      <th></th>\n",
       "      <th>AT</th>\n",
       "      <th>V</th>\n",
       "      <th>AP</th>\n",
       "      <th>RH</th>\n",
       "      <th>PE</th>\n",
       "    </tr>\n",
       "  </thead>\n",
       "  <tbody>\n",
       "    <tr>\n",
       "      <th>0</th>\n",
       "      <td>14.96</td>\n",
       "      <td>41.76</td>\n",
       "      <td>1024.07</td>\n",
       "      <td>73.17</td>\n",
       "      <td>463.26</td>\n",
       "    </tr>\n",
       "    <tr>\n",
       "      <th>1</th>\n",
       "      <td>25.18</td>\n",
       "      <td>62.96</td>\n",
       "      <td>1020.04</td>\n",
       "      <td>59.08</td>\n",
       "      <td>444.37</td>\n",
       "    </tr>\n",
       "    <tr>\n",
       "      <th>2</th>\n",
       "      <td>5.11</td>\n",
       "      <td>39.40</td>\n",
       "      <td>1012.16</td>\n",
       "      <td>92.14</td>\n",
       "      <td>488.56</td>\n",
       "    </tr>\n",
       "    <tr>\n",
       "      <th>3</th>\n",
       "      <td>20.86</td>\n",
       "      <td>57.32</td>\n",
       "      <td>1010.24</td>\n",
       "      <td>76.64</td>\n",
       "      <td>446.48</td>\n",
       "    </tr>\n",
       "    <tr>\n",
       "      <th>4</th>\n",
       "      <td>10.82</td>\n",
       "      <td>37.50</td>\n",
       "      <td>1009.23</td>\n",
       "      <td>96.62</td>\n",
       "      <td>473.90</td>\n",
       "    </tr>\n",
       "  </tbody>\n",
       "</table>\n",
       "</div>"
      ],
      "text/plain": [
       "      AT      V       AP     RH      PE\n",
       "0  14.96  41.76  1024.07  73.17  463.26\n",
       "1  25.18  62.96  1020.04  59.08  444.37\n",
       "2   5.11  39.40  1012.16  92.14  488.56\n",
       "3  20.86  57.32  1010.24  76.64  446.48\n",
       "4  10.82  37.50  1009.23  96.62  473.90"
      ]
     },
     "execution_count": 2,
     "metadata": {},
     "output_type": "execute_result"
    }
   ],
   "source": [
    "df = pd.read_csv(\"../data/power_plants.csv\")\n",
    "df.head()"
   ]
  },
  {
   "cell_type": "markdown",
   "id": "9e75d048",
   "metadata": {},
   "source": [
    "# MLflow Tracking"
   ]
  },
  {
   "cell_type": "markdown",
   "id": "6cccb836",
   "metadata": {},
   "source": [
    "## Model traning"
   ]
  },
  {
   "cell_type": "code",
   "execution_count": 9,
   "id": "28e8b848",
   "metadata": {},
   "outputs": [],
   "source": [
    "def train_model(train_df, max_depth=2):\n",
    "    # Split data\n",
    "    X = train_df[[\"AT\", \"V\", \"AP\", \"RH\"]]\n",
    "    y = train_df[\"PE\"]\n",
    "    X_train, X_test, y_train, y_test = train_test_split(X, y, test_size=0.2, random_state=42)\n",
    "\n",
    "    # Fit model\n",
    "    model = RandomForestRegressor(max_depth=max_depth)\n",
    "    model.fit(X_train, y_train)\n",
    "\n",
    "    # Evaluate the model\n",
    "    y_pred = model.predict(X_test)\n",
    "    mse = mean_squared_error(y_test, y_pred)\n",
    "    rmse = mean_squared_error(y_test, y_pred, squared=False)\n",
    "    print(f\"Test mse = {mse}, Test RMSE = {rmse}, Random forest max depth = {max_depth}\")\n",
    "    return model, mse, rmse"
   ]
  },
  {
   "cell_type": "code",
   "execution_count": 6,
   "id": "b848a073",
   "metadata": {},
   "outputs": [
    {
     "name": "stdout",
     "output_type": "stream",
     "text": [
      "Test mse = 37.70306642963242, Test RMSE = 6.140282276054776, Random forest max depth = 2\n"
     ]
    }
   ],
   "source": [
    "_ = train_model(df, max_depth=2)"
   ]
  },
  {
   "cell_type": "markdown",
   "id": "a31aa36d",
   "metadata": {},
   "source": [
    "- Test with different max depths for the Random forest"
   ]
  },
  {
   "cell_type": "code",
   "execution_count": 10,
   "id": "a22b5c9e",
   "metadata": {},
   "outputs": [
    {
     "name": "stdout",
     "output_type": "stream",
     "text": [
      "Test mse = 37.79798798984541, Test RMSE = 6.148006830660276, Random forest max depth = 2\n",
      "Test mse = 19.940726005759334, Test RMSE = 4.465504003554283, Random forest max depth = 4\n",
      "Test mse = 14.57855904194579, Test RMSE = 3.8181879264836858, Random forest max depth = 6\n"
     ]
    }
   ],
   "source": [
    "for max_depth in range(2, 7, 2):\n",
    "    _ = train_model(df, max_depth=max_depth)"
   ]
  },
  {
   "cell_type": "markdown",
   "id": "6bfecbcd",
   "metadata": {},
   "source": [
    "## Experiment tracking"
   ]
  },
  {
   "cell_type": "markdown",
   "id": "cc5ac419",
   "metadata": {},
   "source": [
    "### Some vocabulary:\n",
    "- **run**: single execution of model training code. Each run can record different informations (model parameters, metrics, tags, artifacts, etc).\n",
    "- **experiment**: the primary unit of organization and access control for MLflow runs; all MLflow runs belong to an experiment. Experiments let you visualize, search for, and compare runs, as well as download run artifacts and metadata for analysis in other tools."
   ]
  },
  {
   "cell_type": "code",
   "execution_count": 11,
   "id": "fbe24287",
   "metadata": {},
   "outputs": [
    {
     "name": "stdout",
     "output_type": "stream",
     "text": [
      "mlflow_tracking_hands_on.ipynb\n"
     ]
    }
   ],
   "source": [
    "!ls"
   ]
  },
  {
   "cell_type": "code",
   "execution_count": 12,
   "id": "f69a4277",
   "metadata": {},
   "outputs": [
    {
     "name": "stdout",
     "output_type": "stream",
     "text": [
      "INFO: 'ep_prediction_with_random_forest' does not exist. Creating a new experiment\n"
     ]
    }
   ],
   "source": [
    "experiment_name = \"ep_prediction_with_random_forest\"\n",
    "mlflow.set_experiment(experiment_name)"
   ]
  },
  {
   "cell_type": "code",
   "execution_count": null,
   "id": "f0c781e2",
   "metadata": {},
   "outputs": [],
   "source": [
    "!ls"
   ]
  },
  {
   "cell_type": "markdown",
   "id": "b9d4b577",
   "metadata": {},
   "source": [
    "### Basic logging\n",
    "- Log model hyper-parameters, metric and the model itself"
   ]
  },
  {
   "cell_type": "code",
   "execution_count": 15,
   "id": "32d837bb",
   "metadata": {},
   "outputs": [],
   "source": [
    "def train_model(train_df, max_depth=2):\n",
    "    with mlflow.start_run():\n",
    "        # Split data\n",
    "        X = train_df[[\"AT\", \"V\", \"AP\", \"RH\"]]\n",
    "        y = train_df[\"PE\"]\n",
    "        X_train, X_test, y_train, y_test = train_test_split(X, y, test_size=0.2, random_state=42)\n",
    "\n",
    "        # Fit model\n",
    "        model = RandomForestRegressor(max_depth=max_depth)\n",
    "        model.fit(X_train, y_train)\n",
    "        ## mlflow: log model & its hyper-parameters\n",
    "        mlflow.log_param(\"max_depth\", max_depth)\n",
    "        mlflow.sklearn.log_model(model, \"model\")\n",
    "\n",
    "        # Evaluate the model\n",
    "        y_pred = model.predict(X_test)\n",
    "        mse = mean_squared_error(y_test, y_pred)\n",
    "        rmse = mean_squared_error(y_test, y_pred, squared=False)\n",
    "        ## mlflow: log metrics\n",
    "        mlflow.log_metrics({\"testing_mse\": mse, \"testing_rmse\": rmse})\n",
    "        print(f\"Test mse = {mse}, Test RMSE = {rmse}, Random forest max depth = {max_depth}\")"
   ]
  },
  {
   "cell_type": "markdown",
   "id": "d8d66d93",
   "metadata": {},
   "source": [
    "- Run the function with mlflow tracking"
   ]
  },
  {
   "cell_type": "code",
   "execution_count": 14,
   "id": "03fdb811",
   "metadata": {},
   "outputs": [
    {
     "name": "stdout",
     "output_type": "stream",
     "text": [
      "Test mse = 38.43902347797478, Test RMSE = 6.199921247723617, Random forest max depth = 2\n",
      "Test mse = 20.083811340187975, Test RMSE = 4.481496551397532, Random forest max depth = 4\n",
      "Test mse = 14.549285665756692, Test RMSE = 3.81435258802286, Random forest max depth = 6\n"
     ]
    }
   ],
   "source": [
    "for max_depth in range(2, 7, 2):\n",
    "    _ = train_model(df, max_depth=max_depth)"
   ]
  },
  {
   "cell_type": "markdown",
   "id": "30d1d01b",
   "metadata": {},
   "source": [
    "### Visualize experiments with MLflow tracking UI"
   ]
  },
  {
   "cell_type": "markdown",
   "id": "5d4143c2",
   "metadata": {},
   "source": [
    "To run the [MLflow Tracking UI](https://www.mlflow.org/docs/latest/tracking.html#tracking-ui), you need to either run the UI with ```mlflow ui``` (needs to be executed from the *notebooks* folder) oor to run an *mlflow server* (will be used in the following section)"
   ]
  },
  {
   "cell_type": "markdown",
   "id": "eb520d80",
   "metadata": {},
   "source": [
    "### Where mlflow saves the data\n",
    "\n",
    "#### Some vocabulary:\n",
    "- **Backend store**: for MLflow entities (runs, parameters, metrics, tags, notes, metadata, etc)\n",
    "- **Artefact store**: for artifacts (files, models, images, in-memory objects, etc)\n",
    "- For more information, [check the official documentation](https://www.mlflow.org/docs/latest/tracking.html#where-runs-are-recorded)"
   ]
  },
  {
   "cell_type": "markdown",
   "id": "1882f490",
   "metadata": {},
   "source": [
    "#### Without prior configuration\n",
    "- When no pror configuration is set, MLflow creates an *mlruns* folder where the data will be saved"
   ]
  },
  {
   "cell_type": "code",
   "execution_count": 16,
   "id": "1f728bd1",
   "metadata": {},
   "outputs": [
    {
     "name": "stdout",
     "output_type": "stream",
     "text": [
      "mlflow_tracking_hands_on.ipynb\n",
      "mlruns\n"
     ]
    }
   ],
   "source": [
    "!ls"
   ]
  },
  {
   "cell_type": "markdown",
   "id": "62ece552",
   "metadata": {},
   "source": [
    "- MLflow created a new folder *mlruns* where it will store the different run informations"
   ]
  },
  {
   "cell_type": "code",
   "execution_count": 17,
   "id": "36a656ec",
   "metadata": {
    "scrolled": false
   },
   "outputs": [
    {
     "name": "stdout",
     "output_type": "stream",
     "text": [
      "Folder PATH listing for volume Windows\n",
      "Volume serial number is 96A4-2B2A\n",
      "C:\\USERS\\SHUDA\\PROJECT\\MLFLOW_HANDS_ON\\NOTEBOOKS\\MLRUNS\n",
      "+---.trash\n",
      "+---0\n",
      "+---1\n",
      "    +---6d3d81e179a64bdf979601b9298f2095\n",
      "    ¦   +---artifacts\n",
      "    ¦   ¦   +---model\n",
      "    ¦   +---metrics\n",
      "    ¦   +---params\n",
      "    ¦   +---tags\n",
      "    +---9eb04ffe0ae34bc98c2fad2e75e8dfb5\n",
      "    ¦   +---artifacts\n",
      "    ¦   ¦   +---model\n",
      "    ¦   +---metrics\n",
      "    ¦   +---params\n",
      "    ¦   +---tags\n",
      "    +---e7f57382489d4b8b8a449dd6c7dcae8c\n",
      "        +---artifacts\n",
      "        ¦   +---model\n",
      "        +---metrics\n",
      "        +---params\n",
      "        +---tags\n"
     ]
    }
   ],
   "source": [
    "!tree mlruns"
   ]
  },
  {
   "cell_type": "markdown",
   "id": "e7778ea2",
   "metadata": {},
   "source": [
    "#### With prior configuration\n",
    "- Set the **Backend store** to an sqlite database located in */tmp/mlruns.db* and the **Artefact store**  to a folder located in */tmp/mlruns*. For more informations on the different possibilities available (S3, blobstorage, etc) check [the official documentation](https://www.mlflow.org/docs/latest/tracking.html#where-runs-are-recorded).\n",
    "- To run the MLflow server, you needd to execute the following command in your terminal\n",
    "```mlflow server --backend-store-uri sqlite:////tmp/mlruns.db --default-artifact-root /tmp/mlruns```\n",
    "- Set the tracking uri in the notebook ```mlflow.set_tracking_uri('http://127.0.0.1:5000')```"
   ]
  },
  {
   "cell_type": "code",
   "execution_count": 18,
   "id": "77e7801f",
   "metadata": {},
   "outputs": [],
   "source": [
    "mlflow.set_tracking_uri('http://127.0.0.1:5000')"
   ]
  },
  {
   "cell_type": "code",
   "execution_count": 20,
   "id": "804001b2",
   "metadata": {},
   "outputs": [],
   "source": [
    "# Create the experiment in the new database\n",
    "experiment_name = \"ep_prediction_with_random_forest\"\n",
    "mlflow.set_experiment(experiment_name)"
   ]
  },
  {
   "cell_type": "markdown",
   "id": "f4895c0d",
   "metadata": {},
   "source": [
    "### Loggiong with autolog"
   ]
  },
  {
   "cell_type": "markdown",
   "id": "d4856e87",
   "metadata": {},
   "source": [
    "- Autollog will log all the model parameters, training metrics, model binary, etc **BUT not the test metrics**, tthey needd to be logged manually"
   ]
  },
  {
   "cell_type": "code",
   "execution_count": 21,
   "id": "b3c01a9b",
   "metadata": {},
   "outputs": [],
   "source": [
    "def train_model(train_df, max_depth=2):\n",
    "    training_timestamp = datetime.now().strftime('%Y-%m-%d, %H:%M:%S')\n",
    "    with mlflow.start_run(run_name=f\"model_{training_timestamp}\"):\n",
    "\n",
    "        mlflow.autolog()\n",
    "        \n",
    "        # Split data\n",
    "        X = train_df[[\"AT\", \"V\", \"AP\", \"RH\"]]\n",
    "        y = train_df[\"PE\"]\n",
    "        X_train, X_test, y_train, y_test = train_test_split(X, y, test_size=0.2, random_state=42)\n",
    "\n",
    "        # Fit model\n",
    "        model = RandomForestRegressor(max_depth=max_depth)\n",
    "        model.fit(X_train, y_train)\n",
    "\n",
    "        # Evaluate the model\n",
    "        y_pred = model.predict(X_test)\n",
    "        mse = mean_squared_error(y_test, y_pred)\n",
    "        rmse = mean_squared_error(y_test, y_pred, squared=False)\n",
    "        ## mlflow: log metrics\n",
    "        mlflow.log_metrics({\"testing_mse\": mse, \"testing_rmse\": rmse})\n",
    "        print(f\"Test mse = {mse}, Test RMSE = {rmse}, Random forest max depth = {max_depth}\")"
   ]
  },
  {
   "cell_type": "code",
   "execution_count": null,
   "id": "53393ba0",
   "metadata": {},
   "outputs": [],
   "source": [
    "for max_depth in range(2, 7, 2):\n",
    "    _ = train_model(df, max_depth=max_depth)"
   ]
  },
  {
   "cell_type": "markdown",
   "id": "f665b829",
   "metadata": {},
   "source": [
    "\n",
    "### Search runs"
   ]
  },
  {
   "cell_type": "markdown",
   "id": "45dc2181",
   "metadata": {},
   "source": [
    "- [In the UI directly](https://www.mlflow.org/docs/latest/search-syntax.html#search)\n",
    "- [Programmatically with search_runs](https://www.mlflow.org/docs/latest/search-syntax.html#programmatically-searching-runs)"
   ]
  },
  {
   "cell_type": "markdown",
   "id": "919e5ea4",
   "metadata": {},
   "source": [
    "- Get the id of the experiment where we want to search runs"
   ]
  },
  {
   "cell_type": "code",
   "execution_count": null,
   "id": "34754ffb",
   "metadata": {},
   "outputs": [],
   "source": [
    "mlflow.get_experiment_by_name(experiment_name)"
   ]
  },
  {
   "cell_type": "code",
   "execution_count": null,
   "id": "d1d34ded",
   "metadata": {},
   "outputs": [],
   "source": [
    "experiment_id = mlflow.get_experiment_by_name(experiment_name).experiment_id\n",
    "experiment_id"
   ]
  },
  {
   "cell_type": "markdown",
   "id": "7271b9da",
   "metadata": {},
   "source": [
    "- Get all runs for the experiment"
   ]
  },
  {
   "cell_type": "code",
   "execution_count": null,
   "id": "e29b0471",
   "metadata": {},
   "outputs": [],
   "source": [
    "mlflow.search_runs(experiment_id)"
   ]
  },
  {
   "cell_type": "markdown",
   "id": "30e29fc6",
   "metadata": {},
   "source": [
    "- Filter runs by max_depth and mse and order them by mse"
   ]
  },
  {
   "cell_type": "code",
   "execution_count": null,
   "id": "46b42457",
   "metadata": {
    "scrolled": true
   },
   "outputs": [],
   "source": [
    "max_depth = 4\n",
    "mlflow.search_runs(\n",
    "    experiment_id,\n",
    "    filter_string=f\"params.max_depth = '{max_depth}' AND metrics.testing_mse <= 40\",\n",
    "    order_by=['metrics.testing_mse asc']\n",
    ")"
   ]
  },
  {
   "cell_type": "markdown",
   "id": "1c47eec8",
   "metadata": {},
   "source": [
    "### Load a saved model"
   ]
  },
  {
   "cell_type": "markdown",
   "id": "96eecc14",
   "metadata": {},
   "source": [
    "- [More informations on other format of model_uri](https://www.mlflow.org/docs/latest/python_api/mlflow.sklearn.html#mlflow.sklearn.load_model)"
   ]
  },
  {
   "cell_type": "markdown",
   "id": "349f2799",
   "metadata": {},
   "source": [
    "#### With the result of search_runs"
   ]
  },
  {
   "cell_type": "code",
   "execution_count": null,
   "id": "86fde21a",
   "metadata": {},
   "outputs": [],
   "source": [
    "run = mlflow.search_runs(\n",
    "    experiment_id,\n",
    "    filter_string=f\"params.max_depth = '{max_depth}' AND metrics.testing_mse <= 30\",\n",
    "    order_by=[\"metrics.testing_mse asc\"]\n",
    ").iloc[0]\n",
    "run"
   ]
  },
  {
   "cell_type": "code",
   "execution_count": null,
   "id": "44974719",
   "metadata": {},
   "outputs": [],
   "source": [
    "run.artifact_uri"
   ]
  },
  {
   "cell_type": "code",
   "execution_count": null,
   "id": "022628c8",
   "metadata": {},
   "outputs": [],
   "source": [
    "model = mlflow.sklearn.load_model(model_uri=f\"{run.artifact_uri}/model\")\n",
    "model"
   ]
  },
  {
   "cell_type": "code",
   "execution_count": null,
   "id": "5ae757c3",
   "metadata": {},
   "outputs": [],
   "source": [
    "model.predict(df[:5][[\"AT\", \"V\", \"AP\", \"RH\"]])"
   ]
  }
 ],
 "metadata": {
  "kernelspec": {
   "display_name": "Python 3 (ipykernel)",
   "language": "python",
   "name": "python3"
  },
  "language_info": {
   "codemirror_mode": {
    "name": "ipython",
    "version": 3
   },
   "file_extension": ".py",
   "mimetype": "text/x-python",
   "name": "python",
   "nbconvert_exporter": "python",
   "pygments_lexer": "ipython3",
   "version": "3.9.12"
  },
  "toc": {
   "base_numbering": 1,
   "nav_menu": {},
   "number_sections": true,
   "sideBar": true,
   "skip_h1_title": false,
   "title_cell": "Table of Contents",
   "title_sidebar": "Contents",
   "toc_cell": false,
   "toc_position": {},
   "toc_section_display": true,
   "toc_window_display": false
  }
 },
 "nbformat": 4,
 "nbformat_minor": 5
}
