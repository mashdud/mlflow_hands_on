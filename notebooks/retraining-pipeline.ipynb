{
 "cells": [
  {
   "cell_type": "code",
   "execution_count": null,
   "id": "institutional-photography",
   "metadata": {},
   "outputs": [],
   "source": [
    "import numpy as np\n",
    "import pandas as pd\n",
    "import matplotlib.pyplot as plt\n",
    "import mlflow\n",
    "from mlflow.tracking import MlflowClient\n",
    "\n",
    "from sklearn.model_selection import train_test_split\n",
    "from sklearn.ensemble import RandomForestRegressor\n",
    "from sklearn.metrics import mean_squared_error\n",
    "\n",
    "np.random.seed(42)\n",
    "\n",
    "plt.rcParams['figure.figsize'] = [10, 7]\n",
    "pd.set_option(\"max_columns\", None)"
   ]
  },
  {
   "cell_type": "markdown",
   "id": "outer-sodium",
   "metadata": {},
   "source": [
    "## Load the csv file and add a device_id column to simulate having multiple IoT devices"
   ]
  },
  {
   "cell_type": "code",
   "execution_count": null,
   "id": "deadly-capability",
   "metadata": {
    "scrolled": false
   },
   "outputs": [],
   "source": [
    "df = pd.read_csv('../data/power_plants.csv')\n",
    "df.head()"
   ]
  },
  {
   "cell_type": "markdown",
   "id": "cardiovascular-tissue",
   "metadata": {},
   "source": [
    "- We want to simulate the fact of using multiple models in production at the same time (one model per IoT device). To do that, we can either split our data to 4 dataframes (1 dataframe per IoT device) or we can create a new column `device_id` where we specify the IoT device the record belongs to. We will go with the latter approach by assigning a random number between 1 and 4."
   ]
  },
  {
   "cell_type": "code",
   "execution_count": null,
   "id": "warming-finance",
   "metadata": {},
   "outputs": [],
   "source": [
    "import numpy as np\n",
    "\n",
    "df[\"device_id\"] = np.random.randint(1, 5, size=len(df))\n",
    "df.head()"
   ]
  },
  {
   "cell_type": "code",
   "execution_count": null,
   "id": "permanent-reasoning",
   "metadata": {},
   "outputs": [],
   "source": [
    "df.device_id.value_counts()"
   ]
  },
  {
   "cell_type": "markdown",
   "id": "described-addiction",
   "metadata": {},
   "source": [
    "# Model training"
   ]
  },
  {
   "cell_type": "markdown",
   "id": "hungarian-point",
   "metadata": {},
   "source": [
    "## Train model function"
   ]
  },
  {
   "cell_type": "markdown",
   "id": "nervous-daisy",
   "metadata": {},
   "source": [
    "Create a function that trains a model for a single device. It should take the device dataframe as input an do the following steps:\n",
    "- Split the data into training and test set\n",
    "- Trains a `RandomForestRegressor`\n",
    "- Evaluates it with `MAE`, `MSE` and `RMSE`\n",
    "- Returns a dictionary with the following informations\n",
    "    - `device_id`\n",
    "    - `test_mae`\n",
    "    - `test_mse`\n",
    "    - `test_rmse`"
   ]
  },
  {
   "cell_type": "code",
   "execution_count": null,
   "id": "proprietary-seven",
   "metadata": {},
   "outputs": [],
   "source": [
    "from sklearn.metrics import mean_absolute_error, mean_squared_error\n",
    "\n",
    "def train_model_for_an_iot_device(device_df: pd.DataFrame) -> dict:\n",
    "    \"\"\"Trains a model for a single device\"\"\"\n",
    "    device_id = device_df.iloc[0].device_id\n",
    "    \n",
    "    # Split data\n",
    "    X = device_df[[\"AT\", \"V\", \"AP\", \"RH\"]]\n",
    "    y = device_df[\"PE\"]\n",
    "    X_train, X_test, y_train, y_test = train_test_split(X, y, test_size=0.2, random_state=42)\n",
    "    \n",
    "    # Fit model\n",
    "    model = RandomForestRegressor()\n",
    "    model.fit(X_train, y_train)\n",
    "\n",
    "    # Evaluate the model\n",
    "    y_pred = model.predict(X_test)\n",
    "    \n",
    "    test_mae = mean_absolute_error(y_test, y_pred)\n",
    "    test_mse = mean_squared_error(y_test, y_pred)\n",
    "    test_rmse = mean_squared_error(y_test, y_pred, squared=False)\n",
    "    \n",
    "    ret_dict = {\n",
    "        \"device_id\": device_id,\n",
    "        \"test_mae\": test_mae,\n",
    "        \"test_mse\": test_mse,\n",
    "        \"test_rmse\": test_rmse\n",
    "    }\n",
    "    return ret_dict"
   ]
  },
  {
   "cell_type": "markdown",
   "id": "cardiac-permission",
   "metadata": {},
   "source": [
    "## Train a model for all the devices\n",
    "\n",
    "Now that we can train a model for a given IoT device, let's orchestrate the training for all device models given the full dataset (sensor measures from all the IoT devices).\n",
    "\n",
    "Create a function `train_models_for_all_iot_devices` that will take the full data and call the `train_model_for_an_iot_device` function with the corresponding device data. This function shouldd return a dataframe where each row corresponds to each device model training metadata (`device_id`, `fitted_model`, `test_mae`, `test_mse`, `test_rmse`)."
   ]
  },
  {
   "cell_type": "code",
   "execution_count": null,
   "id": "cleared-tourist",
   "metadata": {},
   "outputs": [],
   "source": [
    "def train_models_for_all_iot_devices(data: pd.DataFrame) -> pd.DataFrame:\n",
    "    ret_dict_list = []\n",
    "    for device_id in data.device_id.unique():\n",
    "        iot_device_df = data[data.device_id == device_id]\n",
    "        ret_dict_list.append(train_model_for_an_iot_device(iot_device_df))\n",
    "    return ret_dict_list"
   ]
  },
  {
   "cell_type": "code",
   "execution_count": null,
   "id": "hidden-journal",
   "metadata": {},
   "outputs": [],
   "source": [
    "train_models_for_all_iot_devices(df)"
   ]
  },
  {
   "cell_type": "markdown",
   "id": "fiscal-elements",
   "metadata": {},
   "source": [
    "## Mlflow integration"
   ]
  },
  {
   "cell_type": "markdown",
   "id": "nuclear-station",
   "metadata": {},
   "source": [
    "`mlflow server --backend-store-uri sqlite:////tmp/mlruns.db --default-artifact-root /tmp/mlruns`"
   ]
  },
  {
   "cell_type": "code",
   "execution_count": null,
   "id": "useful-castle",
   "metadata": {},
   "outputs": [],
   "source": [
    "mlflow.set_tracking_uri('http://127.0.0.1:5000')"
   ]
  },
  {
   "cell_type": "code",
   "execution_count": null,
   "id": "annoying-truck",
   "metadata": {
    "scrolled": false
   },
   "outputs": [],
   "source": [
    "experiment_name = \"Iot device model training\"\n",
    "\n",
    "mlflow.set_experiment(experiment_name)\n",
    "\n",
    "experiment_id = mlflow.get_experiment_by_name(experiment_name).experiment_id\n",
    "experiment_id"
   ]
  },
  {
   "cell_type": "code",
   "execution_count": null,
   "id": "musical-cricket",
   "metadata": {},
   "outputs": [],
   "source": [
    "from sklearn.metrics import mean_absolute_error, mean_squared_error\n",
    "\n",
    "def train_model_for_an_iot_device(device_df: pd.DataFrame) -> dict:\n",
    "    \"\"\"Trains a model for a single device\"\"\"\n",
    "    device_id = device_df.iloc[0].device_id\n",
    "    \n",
    "    with mlflow.start_run():\n",
    "        mlflow.sklearn.autolog()\n",
    "\n",
    "        # Split data\n",
    "        X = device_df[[\"AT\", \"V\", \"AP\", \"RH\"]]\n",
    "        y = device_df[\"PE\"]\n",
    "        X_train, X_test, y_train, y_test = train_test_split(X, y, test_size=0.2, random_state=42)\n",
    "        mlflow.log_params(\n",
    "            {\"nb_sample\": len(X), \"nb_training_samples\": len(X_train), \"nb_testing_samples\": len(X_test)})\n",
    "\n",
    "        # Fit model\n",
    "        model = RandomForestRegressor()\n",
    "        model.fit(X_train, y_train)\n",
    "\n",
    "        # Evaluate the model\n",
    "        y_pred = model.predict(X_test)\n",
    "\n",
    "        test_mae = mean_absolute_error(y_test, y_pred)\n",
    "        test_mse = mean_squared_error(y_test, y_pred)\n",
    "        test_rmse = mean_squared_error(y_test, y_pred, squared=False)\n",
    "        mlflow.log_metrics({\"test_mae\": test_mae, \"test_mse\": test_mse, \"test_rmse\": test_rmse})\n",
    "\n",
    "        ret_dict = {\n",
    "            \"device_id\": device_id,\n",
    "            \"test_mae\": test_mae,\n",
    "            \"test_mse\": test_mse,\n",
    "            \"test_rmse\": test_rmse\n",
    "        }\n",
    "    return ret_dict"
   ]
  },
  {
   "cell_type": "code",
   "execution_count": null,
   "id": "bridal-uruguay",
   "metadata": {},
   "outputs": [],
   "source": [
    "def train_models_for_all_iot_devices(data: pd.DataFrame) -> pd.DataFrame:\n",
    "    ret_dict_list = []\n",
    "    for device_id in data.device_id.unique():\n",
    "        iot_device_df = data[data.device_id == device_id]\n",
    "        ret_dict_list.append(train_model_for_an_iot_device(iot_device_df))\n",
    "    return ret_dict_list"
   ]
  },
  {
   "cell_type": "code",
   "execution_count": null,
   "id": "uniform-envelope",
   "metadata": {},
   "outputs": [],
   "source": [
    "train_models_for_all_iot_devices(df)"
   ]
  },
  {
   "cell_type": "markdown",
   "id": "amended-bathroom",
   "metadata": {},
   "source": [
    "## Train a model each month"
   ]
  },
  {
   "cell_type": "code",
   "execution_count": null,
   "id": "younger-tactics",
   "metadata": {},
   "outputs": [],
   "source": [
    "from sklearn.metrics import mean_absolute_error, mean_squared_error\n",
    "\n",
    "def train_model_for_an_iot_device(device_df: pd.DataFrame, month_name: str) -> dict:\n",
    "    \"\"\"Trains a model for a single device\"\"\"\n",
    "    device_id = int(device_df.iloc[0].device_id)\n",
    "    \n",
    "    with mlflow.start_run(nested=True, run_name=f\"device {device_id}\"):\n",
    "        mlflow.log_params({\"device_id\": device_id, \"month\": month_name})\n",
    "        \n",
    "        \n",
    "        mlflow.sklearn.autolog()\n",
    "\n",
    "        # Split data\n",
    "        X = device_df[[\"AT\", \"V\", \"AP\", \"RH\"]]\n",
    "        y = device_df[\"PE\"]\n",
    "        X_train, X_test, y_train, y_test = train_test_split(X, y, test_size=0.2, random_state=42)\n",
    "        mlflow.log_params(\n",
    "            {\"nb_sample\": len(X), \"nb_training_samples\": len(X_train), \"nb_testing_samples\": len(X_test)})\n",
    "\n",
    "        # Fit model\n",
    "        model = RandomForestRegressor()\n",
    "        model.fit(X_train, y_train)\n",
    "\n",
    "        # Evaluate the model\n",
    "        y_pred = model.predict(X_test)\n",
    "\n",
    "        test_mae = mean_absolute_error(y_test, y_pred)\n",
    "        test_mse = mean_squared_error(y_test, y_pred)\n",
    "        test_rmse = mean_squared_error(y_test, y_pred, squared=False)\n",
    "        mlflow.log_metrics({\"test_mae\": test_mae, \"test_mse\": test_mse, \"test_rmse\": test_rmse})\n",
    "\n",
    "        ret_dict = {\n",
    "            \"device_id\": device_id,\n",
    "            \"test_mae\": test_mae,\n",
    "            \"test_mse\": test_mse,\n",
    "            \"test_rmse\": test_rmse\n",
    "        }\n",
    "    return ret_dict"
   ]
  },
  {
   "cell_type": "code",
   "execution_count": null,
   "id": "civilian-manner",
   "metadata": {},
   "outputs": [],
   "source": [
    "def train_models_for_all_iot_devices(data: pd.DataFrame, month_name: str) -> pd.DataFrame:\n",
    "    with mlflow.start_run(run_name=month_name):\n",
    "        ret_dict_list = []\n",
    "        for device_id in data.device_id.unique():\n",
    "            iot_device_df = data[data.device_id == device_id]\n",
    "            ret_dict = train_model_for_an_iot_device(iot_device_df, month_name)\n",
    "            ret_dict_list.append(ret_dict)\n",
    "    return ret_dict_list"
   ]
  },
  {
   "cell_type": "code",
   "execution_count": null,
   "id": "convertible-theology",
   "metadata": {},
   "outputs": [],
   "source": [
    "train_models_for_all_iot_devices(df, \"june\")"
   ]
  },
  {
   "cell_type": "code",
   "execution_count": null,
   "id": "intelligent-potter",
   "metadata": {},
   "outputs": [],
   "source": [
    "train_models_for_all_iot_devices(df, \"july\")"
   ]
  },
  {
   "cell_type": "code",
   "execution_count": null,
   "id": "important-source",
   "metadata": {},
   "outputs": [],
   "source": [
    "train_models_for_all_iot_devices(df, \"august\")"
   ]
  },
  {
   "cell_type": "markdown",
   "id": "reliable-devon",
   "metadata": {},
   "source": [
    "# Simulate drift in the data"
   ]
  },
  {
   "cell_type": "code",
   "execution_count": null,
   "id": "hidden-anger",
   "metadata": {},
   "outputs": [],
   "source": [
    "df_lower_distribution = df[df[\"PE\"] < 450]"
   ]
  },
  {
   "cell_type": "code",
   "execution_count": null,
   "id": "british-applicant",
   "metadata": {},
   "outputs": [],
   "source": [
    "# Create 2 \"months\" worth of data from the same distribution\n",
    "indexs = np.random.rand(len(df_lower_distribution))\n",
    "indexs"
   ]
  },
  {
   "cell_type": "code",
   "execution_count": null,
   "id": "incorporate-aging",
   "metadata": {},
   "outputs": [],
   "source": [
    "mask = indexs < 0.5\n",
    "df_march, df_april = df_lower_distribution[mask], df_lower_distribution[~mask]"
   ]
  },
  {
   "cell_type": "code",
   "execution_count": null,
   "id": "following-citation",
   "metadata": {},
   "outputs": [],
   "source": [
    "df_march[\"PE\"].hist(bins=100)"
   ]
  },
  {
   "cell_type": "code",
   "execution_count": null,
   "id": "flush-swaziland",
   "metadata": {},
   "outputs": [],
   "source": [
    "df_april[\"PE\"].hist(bins=100)"
   ]
  },
  {
   "cell_type": "code",
   "execution_count": null,
   "id": "lonely-conclusion",
   "metadata": {},
   "outputs": [],
   "source": [
    "df_may = df[df[\"PE\"] >= 450]\n",
    "df_may[\"PE\"].hist(bins=100)"
   ]
  },
  {
   "cell_type": "markdown",
   "id": "instructional-calculator",
   "metadata": {},
   "source": [
    "# Train models for the different months"
   ]
  },
  {
   "cell_type": "code",
   "execution_count": null,
   "id": "italian-doctrine",
   "metadata": {
    "scrolled": true
   },
   "outputs": [],
   "source": [
    "_ = train_models_for_all_iot_devices(df_march, \"march\")"
   ]
  },
  {
   "cell_type": "markdown",
   "id": "alpine-belize",
   "metadata": {},
   "source": [
    "## Register a model in the Model Registry"
   ]
  },
  {
   "cell_type": "code",
   "execution_count": null,
   "id": "spoken-launch",
   "metadata": {},
   "outputs": [],
   "source": [
    "all_experiment_runs_df = mlflow.search_runs(experiment_id)\n",
    "all_experiment_runs_df.head(2)"
   ]
  },
  {
   "cell_type": "markdown",
   "id": "russian-visitor",
   "metadata": {},
   "source": [
    "- Register model in Mlflow ModelRegistry"
   ]
  },
  {
   "cell_type": "code",
   "execution_count": null,
   "id": "plain-expert",
   "metadata": {},
   "outputs": [],
   "source": [
    "device_id = 1\n",
    "current_month = \"march\"\n",
    "best_model_for_device_for_current_month_run_id = mlflow.search_runs(\n",
    "    experiment_id,\n",
    "    order_by=['metrics.test_rmse desc'],\n",
    "    filter_string=f\"params.device_id = '{device_id}' AND params.month = '{current_month}'\"\n",
    ").iloc[0][\"run_id\"]\n",
    "best_model_for_device_for_current_month_run_id"
   ]
  },
  {
   "cell_type": "code",
   "execution_count": null,
   "id": "interesting-python",
   "metadata": {},
   "outputs": [],
   "source": [
    "model_uri = f\"runs:/{best_model_for_device_for_current_month_run_id}/model\"\n",
    "model_name_in_model_registry = f\"powerplant_device_{device_id}\"\n",
    "model_version = mlflow.register_model(model_uri=model_uri, name=model_name_in_model_registry)"
   ]
  },
  {
   "cell_type": "code",
   "execution_count": null,
   "id": "starting-fundamental",
   "metadata": {},
   "outputs": [],
   "source": [
    "model_version"
   ]
  },
  {
   "cell_type": "code",
   "execution_count": null,
   "id": "exceptional-output",
   "metadata": {},
   "outputs": [],
   "source": [
    "type(experiment_id)"
   ]
  },
  {
   "cell_type": "code",
   "execution_count": null,
   "id": "quality-luxury",
   "metadata": {},
   "outputs": [],
   "source": [
    "def register_iot_device_model_with_best_rmse(month: str, device_id: int, experiment_name: str):\n",
    "    experiment_id = mlflow.get_experiment_by_name(experiment_name).experiment_id\n",
    "    run_id = mlflow.search_runs(\n",
    "        experiment_id,\n",
    "        order_by=['metrics.test_rmse desc'],\n",
    "        filter_string=f\"params.device_id = '{device_id}' AND params.month = '{month}'\"\n",
    "    ).iloc[0][\"run_id\"]\n",
    "    \n",
    "    model_name_in_model_registry = f\"powerplant_device_{device_id}\"\n",
    "    model_version = mlflow.register_model(model_uri=f\"runs:/{run_id}/model\", name=model_name_in_model_registry)\n",
    "    return model_version"
   ]
  },
  {
   "cell_type": "code",
   "execution_count": null,
   "id": "initial-knight",
   "metadata": {},
   "outputs": [],
   "source": [
    "model_version = register_iot_device_model_with_best_rmse(\"march\", 2, experiment_name)\n",
    "model_version"
   ]
  },
  {
   "cell_type": "markdown",
   "id": "sensitive-jenny",
   "metadata": {},
   "source": [
    "## Transition model for a different stage"
   ]
  },
  {
   "cell_type": "code",
   "execution_count": null,
   "id": "expired-browse",
   "metadata": {},
   "outputs": [],
   "source": [
    "client = MlflowClient()"
   ]
  },
  {
   "cell_type": "code",
   "execution_count": null,
   "id": "intelligent-arctic",
   "metadata": {},
   "outputs": [],
   "source": [
    "help(client.transition_model_version_stage)"
   ]
  },
  {
   "cell_type": "code",
   "execution_count": null,
   "id": "lonely-genome",
   "metadata": {
    "scrolled": true
   },
   "outputs": [],
   "source": [
    "target_stage = \"Production\"\n",
    "model_version = client.transition_model_version_stage(\n",
    "    name=model_version.name, version=model_version.version, stage=target_stage\n",
    ")\n",
    "model_version"
   ]
  },
  {
   "cell_type": "code",
   "execution_count": null,
   "id": "small-indication",
   "metadata": {},
   "outputs": [],
   "source": [
    "def transition_model_to_a_new_stage(model_version, stage: str, archive_existing_versions: bool = True):\n",
    "    valid_stage_values = [\"staging\", \"production\", \"archived\", \"none\"]\n",
    "    assert stage in valid_stage_values, f\"Invalid stage: {stage}. Valid stage values = {valid_stage_values}\"\n",
    "    print(model_version)\n",
    "    client = MlflowClient()\n",
    "    updated_model_version = client.transition_model_version_stage(\n",
    "        name=model_version.name, version=model_version.version,\n",
    "        stage=stage, archive_existing_versions=archive_existing_versions\n",
    "    )\n",
    "    return updated_model_version"
   ]
  },
  {
   "cell_type": "code",
   "execution_count": null,
   "id": "second-postcard",
   "metadata": {},
   "outputs": [],
   "source": [
    "transition_model_to_a_new_stage(model_version, \"staging\")"
   ]
  },
  {
   "cell_type": "code",
   "execution_count": null,
   "id": "earned-arthur",
   "metadata": {},
   "outputs": [],
   "source": [
    "model_version = register_iot_device_model_with_best_rmse(\"march\", 2, experiment_name)\n",
    "model_version = transition_model_to_a_new_stage(model_version, \"staging\")\n",
    "###### Human in the loop: Model testing and validation by the product owner\n",
    "model_version = transition_model_to_a_new_stage(model_version, \"production\")"
   ]
  },
  {
   "cell_type": "code",
   "execution_count": null,
   "id": "peripheral-retirement",
   "metadata": {},
   "outputs": [],
   "source": [
    "model_version = transition_model_to_a_new_stage(model_version, \"archived\", False)"
   ]
  },
  {
   "cell_type": "markdown",
   "id": "further-breeding",
   "metadata": {},
   "source": [
    "# Final pipeline"
   ]
  },
  {
   "cell_type": "markdown",
   "id": "discrete-nebraska",
   "metadata": {},
   "source": [
    "## March"
   ]
  },
  {
   "cell_type": "code",
   "execution_count": null,
   "id": "complex-vault",
   "metadata": {},
   "outputs": [],
   "source": [
    "month = \"March\""
   ]
  },
  {
   "cell_type": "code",
   "execution_count": null,
   "id": "female-convenience",
   "metadata": {},
   "outputs": [],
   "source": [
    "# Train models\n",
    "for _ in range(2):\n",
    "    _ = train_models_for_all_iot_devices(df_march, month)"
   ]
  },
  {
   "cell_type": "code",
   "execution_count": null,
   "id": "incorporated-lincoln",
   "metadata": {},
   "outputs": [],
   "source": [
    "# Register the model with the best RMSE in the model registry\n",
    "device_1_model_version = register_iot_device_model_with_best_rmse(month, 1, experiment_name)\n",
    "device_2_model_version = register_iot_device_model_with_best_rmse(month, 2, experiment_name)\n",
    "device_3_model_version = register_iot_device_model_with_best_rmse(month, 3, experiment_name)\n",
    "device_4_model_version = register_iot_device_model_with_best_rmse(month, 4, experiment_name)"
   ]
  },
  {
   "cell_type": "code",
   "execution_count": null,
   "id": "indirect-producer",
   "metadata": {},
   "outputs": [],
   "source": [
    "# Transition models to production\n",
    "device_1_model_version = transition_model_to_a_new_stage(device_1_model_version, \"production\")\n",
    "device_2_model_version = transition_model_to_a_new_stage(device_2_model_version, \"production\")\n",
    "device_3_model_version = transition_model_to_a_new_stage(device_3_model_version, \"production\")\n",
    "device_4_model_version = transition_model_to_a_new_stage(device_4_model_version, \"production\")"
   ]
  },
  {
   "cell_type": "markdown",
   "id": "analyzed-start",
   "metadata": {},
   "source": [
    "## April"
   ]
  },
  {
   "cell_type": "code",
   "execution_count": null,
   "id": "actual-petersburg",
   "metadata": {},
   "outputs": [],
   "source": [
    "month = \"April\""
   ]
  },
  {
   "cell_type": "code",
   "execution_count": null,
   "id": "advanced-forward",
   "metadata": {},
   "outputs": [],
   "source": [
    "# Train models\n",
    "for _ in range(2):\n",
    "    _ = train_models_for_all_iot_devices(df_april, month)"
   ]
  },
  {
   "cell_type": "code",
   "execution_count": null,
   "id": "inner-walnut",
   "metadata": {},
   "outputs": [],
   "source": [
    "# Register the model with the best RMSE in the model registry\n",
    "device_1_model_version = register_iot_device_model_with_best_rmse(month, 1, experiment_name)\n",
    "device_2_model_version = register_iot_device_model_with_best_rmse(month, 2, experiment_name)\n",
    "device_3_model_version = register_iot_device_model_with_best_rmse(month, 3, experiment_name)\n",
    "device_4_model_version = register_iot_device_model_with_best_rmse(month, 4, experiment_name)"
   ]
  },
  {
   "cell_type": "code",
   "execution_count": null,
   "id": "pregnant-buffer",
   "metadata": {},
   "outputs": [],
   "source": [
    "# Transition models to staging\n",
    "stage = \"staging\"\n",
    "device_1_model_version = transition_model_to_a_new_stage(device_1_model_version, stage)\n",
    "device_2_model_version = transition_model_to_a_new_stage(device_2_model_version, stage)\n",
    "device_3_model_version = transition_model_to_a_new_stage(device_3_model_version, stage)\n",
    "device_4_model_version = transition_model_to_a_new_stage(device_4_model_version, stage)"
   ]
  },
  {
   "cell_type": "code",
   "execution_count": null,
   "id": "norwegian-crawford",
   "metadata": {},
   "outputs": [],
   "source": [
    "###### Human in the loop: Model testing and validation by the product owner\n",
    "# Transition models to staging\n",
    "stage = \"production\"\n",
    "device_1_model_version = transition_model_to_a_new_stage(device_1_model_version, stage)\n",
    "device_2_model_version = transition_model_to_a_new_stage(device_2_model_version, stage)\n",
    "device_3_model_version = transition_model_to_a_new_stage(device_3_model_version, stage)\n",
    "device_4_model_version = transition_model_to_a_new_stage(device_4_model_version, stage)"
   ]
  },
  {
   "cell_type": "markdown",
   "id": "agreed-bermuda",
   "metadata": {},
   "source": [
    "## May"
   ]
  },
  {
   "cell_type": "code",
   "execution_count": null,
   "id": "cultural-there",
   "metadata": {},
   "outputs": [],
   "source": []
  },
  {
   "cell_type": "code",
   "execution_count": null,
   "id": "3c32ebda",
   "metadata": {},
   "outputs": [],
   "source": []
  }
 ],
 "metadata": {
  "kernelspec": {
   "display_name": "Python 3 (ipykernel)",
   "language": "python",
   "name": "python3"
  },
  "language_info": {
   "codemirror_mode": {
    "name": "ipython",
    "version": 3
   },
   "file_extension": ".py",
   "mimetype": "text/x-python",
   "name": "python",
   "nbconvert_exporter": "python",
   "pygments_lexer": "ipython3",
   "version": "3.8.12"
  },
  "toc": {
   "base_numbering": 1,
   "nav_menu": {},
   "number_sections": true,
   "sideBar": true,
   "skip_h1_title": false,
   "title_cell": "Table of Contents",
   "title_sidebar": "Contents",
   "toc_cell": false,
   "toc_position": {},
   "toc_section_display": true,
   "toc_window_display": false
  }
 },
 "nbformat": 4,
 "nbformat_minor": 5
}
